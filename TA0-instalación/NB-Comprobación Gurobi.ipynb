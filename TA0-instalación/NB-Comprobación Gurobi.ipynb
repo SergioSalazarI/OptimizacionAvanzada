{
 "cells": [
  {
   "cell_type": "markdown",
   "metadata": {},
   "source": [
    "<br>\n",
    "<br>\n",
    "\n",
    "\n",
    "# <center>  IIND 2103 Principios de Optimización </center>\n",
    "\n",
    "\n",
    "<br>\n",
    "<br>\n",
    "\n",
    "\n",
    "### <p style='text-align: right;'> Departamento de Ingeniería Industrial <br> Facultad de Ingeniería </p>"
   ]
  },
  {
   "cell_type": "markdown",
   "metadata": {},
   "source": [
    "## Trabajo asistido 0: Comprobación instalación Gurobi\n",
    "\n",
    "### Prerrequisitos:\n",
    "\n",
    "- Instalación de Anaconda\n",
    "- Instalación de Gurobi\n",
    "- Activación de la licencia.\n",
    "\n",
    "### Objetivos:\n",
    "Verificar la correcta instalación de Gurobi"
   ]
  },
  {
   "cell_type": "markdown",
   "metadata": {},
   "source": [
    "### Comprobación\n",
    "Corra la siguiente línea de código y siga las instrucciones:\n",
    "\n",
    "Recuerde, para correrla debe seleccionarla y presionar `Control + Enter`.\n"
   ]
  },
  {
   "cell_type": "code",
   "execution_count": 2,
   "metadata": {},
   "outputs": [
    {
     "name": "stdout",
     "output_type": "stream",
     "text": [
      "¡Excelente! ¡Gurobi python se instaló correctamente!\n"
     ]
    }
   ],
   "source": [
    "try:\n",
    "    from gurobipy import *\n",
    "    print(\"¡Excelente! ¡Gurobi python se instaló correctamente!\")\n",
    "except:    \n",
    "    print('Hubo algún problema... Vuelva a ver los videos de instalación y siga cuidadosamente las instrucciones. Si vuelve a tener el mismo mensaje contacte a su asistente...')"
   ]
  }
 ],
 "metadata": {
  "kernelspec": {
   "display_name": "Python 3",
   "language": "python",
   "name": "python3"
  },
  "language_info": {
   "codemirror_mode": {
    "name": "ipython",
    "version": 3
   },
   "file_extension": ".py",
   "mimetype": "text/x-python",
   "name": "python",
   "nbconvert_exporter": "python",
   "pygments_lexer": "ipython3",
   "version": "3.7.6"
  },
  "latex_envs": {
   "LaTeX_envs_menu_present": true,
   "autoclose": false,
   "autocomplete": true,
   "bibliofile": "biblio.bib",
   "cite_by": "apalike",
   "current_citInitial": 1,
   "eqLabelWithNumbers": true,
   "eqNumInitial": 1,
   "hotkeys": {
    "equation": "Ctrl-E",
    "itemize": "Ctrl-I"
   },
   "labels_anchors": false,
   "latex_user_defs": false,
   "report_style_numbering": false,
   "user_envs_cfg": false
  }
 },
 "nbformat": 4,
 "nbformat_minor": 4
}
