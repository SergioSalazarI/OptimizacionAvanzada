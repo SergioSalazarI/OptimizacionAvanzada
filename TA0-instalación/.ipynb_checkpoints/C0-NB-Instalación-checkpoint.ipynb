{
 "cells": [
  {
   "cell_type": "markdown",
   "metadata": {},
   "source": [
    "<br>\n",
    "<br>\n",
    "\n",
    "\n",
    "# <center>  IIND 2103 Principios de Optimización </center>\n",
    "\n",
    "\n",
    "<br>\n",
    "<br>\n",
    "\n",
    "\n",
    "### <p style='text-align: right;'> Departamento de Ingeniería Industrial <br> Facultad de Ingeniería </p>"
   ]
  },
  {
   "attachments": {},
   "cell_type": "markdown",
   "metadata": {},
   "source": [
    "## Complementaria 0: Jupyter Notebook\n",
    "\n",
    "Los Jupyter Notebooks tienen un gran auge en la actualidad, ya que permiten diseñar documentos estructurados y estéticamente ricos (figuras, tablas, imágenes, ecuaciones), y combinarlos con código, resultados computacionales y visualizaciones interactivas. Por esto, es importante familiarizar al participante con el entorno de un Jupyter Notebook, ya que será una herramienta de uso constante en el curso.\n",
    "\n",
    "### Prerrequisitos:\n",
    "- Instalar Anaconda\n",
    "\n",
    "### Objetivos:\n",
    "- Familiarizarse los Jupyter Notebooks."
   ]
  },
  {
   "cell_type": "markdown",
   "metadata": {},
   "source": [
    "### Tipos de celdas\n",
    "Las celdas son espacios en los Notebooks donde podemos escribir texto o código. Los Notebooks de Jupyter tienen dos tipos de celdas diferentes, las celdas son los espacios donde podemos escribir texto o código sus nombres son: celdas Markdown (son celdas de texto, como esta) y celdas de código."
   ]
  },
  {
   "cell_type": "markdown",
   "metadata": {},
   "source": [
    "#### Celdas Markdown\n",
    "Su principal función es representar el texto del documento. Estas soportan un lenguaje llamado Markwdown y su utilidad es la de la manipulación de texto. Para dar este formato adicional a nuestro texto necesitamos utilizar ciertos caracteres para crear encabezados, tablas, negrillas, cursivas, entre otras cosas. Estos serán explicados en el nivel tres de este módulo."
   ]
  },
  {
   "cell_type": "markdown",
   "metadata": {},
   "source": [
    "Esto es una celda de Markdown:\n",
    "\n",
    "Podemos escribir ecuaciones poniendo `$ $`, por ejemplo si escribimos `$\\Delta p=\\int F dt$`, obtenemos $\\Delta p=\\int F dt$. Si queremos que la ecuacion se muestre en una nueva linea, y centrada usamos el comand `$$ $$`. Usando esto se obtiene\n",
    "\n",
    "$$\\Delta p=\\int F dt.$$\n",
    "\n",
    "\n",
    "\n",
    "En los siguientes links puede encontrar varios comandos que le seran útiles a lo largo del curso:\n",
    "\n",
    "- [Expresiones matemáticas](https://www.overleaf.com/learn/latex/mathematical_expressions) \n",
    "\n",
    "- [Más simbolos matemáticos](https://www.overleaf.com/learn/latex/List_of_Greek_letters_and_math_symbols) \n",
    "\n",
    "- [Sumatorias](https://www.overleaf.com/learn/latex/Integrals,_sums_and_limits) \n",
    "\n"
   ]
  },
  {
   "cell_type": "markdown",
   "metadata": {},
   "source": [
    "####  Celdas de código\n",
    "\n",
    "El manejo de estas celdas en términos generales es mas sencillo que las Markdown. Estas están destinadas para escribir y correr el código que hemos escrito (se puede desarrollar en lenguajes de programación diferentes a Python)."
   ]
  },
  {
   "cell_type": "code",
   "execution_count": 5,
   "metadata": {},
   "outputs": [
    {
     "name": "stdout",
     "output_type": "stream",
     "text": [
      "¡Hola mundo!\n",
      "Se sumar: 1+1 da 2\n"
     ]
    }
   ],
   "source": [
    "# Esta es una celda de código\n",
    "print(\"¡Hola mundo!\")\n",
    "\n",
    "print(f'Se sumar: 1+1 da {1+1}')"
   ]
  },
  {
   "cell_type": "markdown",
   "metadata": {},
   "source": [
    "### ¿Cómo hacer que el contenido de las celdas sea representado?\n",
    " Comandos para evaluar las celdas:\n",
    " \n",
    "   * `Control + Enter :`  evalúa el contenido de la celda y permanece en ella.\n",
    "\n",
    "   * `Shift + Enter :`   evalúa el contenido de la celda y se mueve hacia la siguiente, creando una nueva si no hay otra celda a la cual se pueda mover."
   ]
  },
  {
   "cell_type": "markdown",
   "metadata": {},
   "source": [
    "### ¿Cómo crear una nueva celda?\n",
    " Comandos para crear celdas:\n",
    " \n",
    "   * `Escape + b :`  crea  una celda justo abajo de la celda actual (b por below).\n",
    "\n",
    "   * `Escape + a :`  crea  una celda justo arriba de la celda actual (a por above).\n",
    "   \n",
    "   * `Escape + d + d :`  borra la celda actual"
   ]
  },
  {
   "cell_type": "markdown",
   "metadata": {},
   "source": [
    "### ¿Cómo pasar de un tipo de celda a otro?\n",
    " Comandos para cambiar de tipos de celda:\n",
    " \n",
    "   * `Escape + m :`  pasar de celda de código a celda de Markdown.\n",
    "\n",
    "   * `Escape + y :`  pasar de celda de código a celda de Markdown"
   ]
  },
  {
   "cell_type": "markdown",
   "metadata": {},
   "source": [
    "### ¿Cómo encontrar  mas comandos?\n",
    " \n",
    "   * `Escape + h :`  muestra todos los comandos que hay para manejar los Jupyter Notebooks!"
   ]
  }
 ],
 "metadata": {
  "kernelspec": {
   "display_name": "Python 3",
   "language": "python",
   "name": "python3"
  },
  "language_info": {
   "codemirror_mode": {
    "name": "ipython",
    "version": 3
   },
   "file_extension": ".py",
   "mimetype": "text/x-python",
   "name": "python",
   "nbconvert_exporter": "python",
   "pygments_lexer": "ipython3",
   "version": "3.7.6"
  },
  "latex_envs": {
   "LaTeX_envs_menu_present": true,
   "autoclose": false,
   "autocomplete": true,
   "bibliofile": "biblio.bib",
   "cite_by": "apalike",
   "current_citInitial": 1,
   "eqLabelWithNumbers": true,
   "eqNumInitial": 1,
   "hotkeys": {
    "equation": "Ctrl-E",
    "itemize": "Ctrl-I"
   },
   "labels_anchors": false,
   "latex_user_defs": false,
   "report_style_numbering": false,
   "user_envs_cfg": false
  }
 },
 "nbformat": 4,
 "nbformat_minor": 4
}
