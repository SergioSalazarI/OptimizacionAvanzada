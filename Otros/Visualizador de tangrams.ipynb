{
 "cells": [
  {
   "attachments": {
    "EjemploTangram.png": {
     "image/png": "[encoded data removed]"
    }
   },
   "cell_type": "markdown",
   "metadata": {},
   "source": [
    "# Visualizador de tangrams\n",
    "\n",
    "Bienvenido al visualizador de tangrams. Este código recibe una lista de tuplas que contienen:\n",
    "- La coordenada en el eje $x$ donde se ubica la pieza\n",
    "- La coordenada en el eje $y$ donde se ubica la pieza\n",
    "- Un diccionario de coordenadas complementarias\n",
    "- Una cadena de texto con el color de la pieza\n",
    "\n",
    "Este código tendrá como salida un plano cartesiano con la imagen que se genera con su solución: \n",
    "\n",
    "<div>\n",
    "<img src=\"attachment:EjemploTangram.png\" width=\"300\"/>\n",
    "</div>\n",
    "\n",
    "## Paso 1\n",
    "Primero que todo, se recomienda verificar que se cuenten con los siguientes paquetes:"
   ]
  },
  {
   "cell_type": "code",
   "execution_count": 1,
   "metadata": {},
   "outputs": [],
   "source": [
    "#Cargar paquetes\n",
    "\n",
    "import pandas as pd\n",
    "import matplotlib.pyplot as plt\n",
    "import numpy as np\n",
    "\n",
    "from matplotlib.patches import Circle, Wedge, Polygon\n",
    "from matplotlib.collections import PatchCollection\n",
    "\n",
    "import shapely.geometry as sg\n",
    "import shapely.ops as so\n",
    "\n",
    "#En caso de no tener los paquetes, deben instalarlos ya sea a través de conda o directamente en la consola de comandos. \n",
    "#-- Para instalar paquetes directamente desde jupyter modifique y descomente las siguientes dos lineas de código:\n",
    "#import sys\n",
    "#!{sys.executable} -m pip install numpy\n",
    "#-- Fin"
   ]
  },
  {
   "cell_type": "markdown",
   "metadata": {},
   "source": [
    "## Paso 2\n",
    "Ejecute la siguiente celda que contienen las funciones para visualizar el tangram."
   ]
  },
  {
   "cell_type": "code",
   "execution_count": 2,
   "metadata": {},
   "outputs": [],
   "source": [
    "def plot_square(x,y,color=\"black\"):\n",
    "\tp=[(x,y),(x+1,y),(x+1,y+1),(x,y+1)]\n",
    "\tr1 = sg.Polygon(p)\n",
    "\treturn r1\n",
    "\n",
    "def plot_perm(perm,x0=0,y0=0,color=\"black\"):\t\t\n",
    "\tns=so.cascaded_union([plot_square(x0+p[0],y0+p[1]) for p in perm])\n",
    "\tif color==1:\n",
    "\t\tcolor=\"blue\"\n",
    "\telif color==2:\n",
    "\t\tcolor=\"lime\"\n",
    "\txs, ys = ns.exterior.xy\n",
    "\tplt.fill(xs, ys, alpha=0.5, fc=color,ec=\"black\")\n",
    "\n",
    "\n",
    "def pintar_sol(dim,sol):\n",
    "\tprint(sol)\n",
    "\tplt.axis('equal')\n",
    "\tplt.ylim([-1,dim +2])\n",
    "\tplt.xlim([-1,dim +2])\n",
    "\tfor f in range(len(sol)):\n",
    "\t\tx=sol[f][0]\n",
    "\t\ty=sol[f][1]\n",
    "\t\tperm=sol[f][2]\n",
    "\t\tcolor=sol[f][3]\n",
    "\t\tplot_perm(perm,x0=x,y0=y,color=color)\n",
    "\tplt.show()"
   ]
  },
  {
   "attachments": {
    "PrimeraPieza.png": {
     "image/png": "[encoded data removed]"
    }
   },
   "cell_type": "markdown",
   "metadata": {},
   "source": [
    "## Paso 3 \n",
    "\n",
    "Debe proveer la lista 'sol' en el siguiente formato: \n",
    "\n",
    "sol=[(3, 1, {(1, 0), (0, 0)},\"green\"), (3, 2, [(0, 0), (0, 1)],\"green\"), (4, 2, {(0, 0)},\"green\"), (2, 1, {(0, 0)},\"green\"), (3, 0, [(0, 0)],\"green\"), (2, 2, [(0, 0)],\"green\"), (1, 0, [(0, 0), (0, 1), (1, 0)],\"blue\"), (5, 5, {(0, -1), (0, 0), (-1, 0), (-1, -1)},\"blue\"), (4, 3, {(1, 0), (0, 0)},\"blue\"), (0, 5, {(3, 0), (2, 0), (1, 0), (0, 0)},\"blue\"), (0, 0, [(0, 0), (0, 1), (0, 2)],\"blue\"), (2, 4, {(0, -1), (1, 0), (0, 0), (-1, 0)},\"blue\"), (5, 0, {(0, 1), (0, 2), (0, 0), (-1, 0)},\"blue\"), (1, 2, {(0, 1), (-1, 1), (0, 0), (-1, 2)},\"blue\")]\n",
    "\n",
    "[(3, 1, {(1, 0), (0, 0)},\"green\"), (3, 2, [(0, 0), (0, 1)],\"green\"), (4, 2, {(0, 0)},\"green\"), (2, 1, {(0, 0)},\"green\"), (3, 0, [(0, 0)],\"green\"), (2, 2, [(0, 0)],\"green\"), (1, 0, [(0, 0), (0, 1), (1, 0)],\"blue\"), (5, 5, {(0, -1), (0, 0), (-1, 0), (-1, -1)},\"blue\"), (4, 3, {(1, 0), (0, 0)},\"blue\"), (0, 5, {(3, 0), (2, 0), (1, 0), (0, 0)},\"blue\"), (0, 0, [(0, 0), (0, 1), (0, 2)],\"blue\"), (2, 4, {(0, -1), (1, 0), (0, 0), (-1, 0)},\"blue\"), (5, 0, {(0, 1), (0, 2), (0, 0), (-1, 0)},\"blue\"), (1, 2, {(0, 1), (-1, 1), (0, 0), (-1, 2)},\"blue\")]\n",
    "\n",
    "Donde cada elemento de la lista es una tupla que describe una pieza y su posición. e.g. Para la primera pieza (3, 1, {(1, 0), (0, 0)},\"green\") estará ubicada en coordenada (x,y) = (3,1), sus posiciones auxiliares serán (4,1) y (3,1) y por último, \"green\" es el color de la pieza. \n",
    "\n",
    "<div>\n",
    "<img src=\"attachment:PrimeraPieza.png\" width=\"300\"/>\n",
    "</div>"
   ]
  },
  {
   "cell_type": "code",
   "execution_count": 3,
   "metadata": {},
   "outputs": [],
   "source": [
    "#--- TO - DO: Reemplazar la solución --- \n",
    "sol=[(3, 1, {(1, 0), (0, 0)},\"green\"), (3, 2, [(0, 0), (0, 1)],\"green\"), (4, 2, {(0, 0)},\"green\"), (2, 1, {(0, 0)},\"green\"), (3, 0, [(0, 0)],\"green\"), (2, 2, [(0, 0)],\"green\"), (1, 0, [(0, 0), (0, 1), (1, 0)],\"blue\"), (5, 5, {(0, -1), (0, 0), (-1, 0), (-1, -1)},\"blue\"), (4, 3, {(1, 0), (0, 0)},\"blue\"), (0, 5, {(3, 0), (2, 0), (1, 0), (0, 0)},\"blue\"), (0, 0, [(0, 0), (0, 1), (0, 2)],\"blue\"), (2, 4, {(0, -1), (1, 0), (0, 0), (-1, 0)},\"blue\"), (5, 0, {(0, 1), (0, 2), (0, 0), (-1, 0)},\"blue\"), (1, 2, {(0, 1), (-1, 1), (0, 0), (-1, 2)},\"blue\")]\n",
    "#---------------------------------------"
   ]
  },
  {
   "cell_type": "markdown",
   "metadata": {},
   "source": [
    "## Paso 4\n",
    "\n",
    "Ejecutar el comando de visualización el cual recibe el tamaño de la cuadrícula (en nuestro caso 6x6) y la lista construida en el paso anterior"
   ]
  },
  {
   "cell_type": "code",
   "execution_count": 4,
   "metadata": {},
   "outputs": [
    {
     "name": "stdout",
     "output_type": "stream",
     "text": [
      "[(3, 1, {(1, 0), (0, 0)}, 'green'), (3, 2, [(0, 0), (0, 1)], 'green'), (4, 2, {(0, 0)}, 'green'), (2, 1, {(0, 0)}, 'green'), (3, 0, [(0, 0)], 'green'), (2, 2, [(0, 0)], 'green'), (1, 0, [(0, 0), (0, 1), (1, 0)], 'blue'), (5, 5, {(0, -1), (0, 0), (-1, 0), (-1, -1)}, 'blue'), (4, 3, {(1, 0), (0, 0)}, 'blue'), (0, 5, {(3, 0), (2, 0), (1, 0), (0, 0)}, 'blue'), (0, 0, [(0, 0), (0, 1), (0, 2)], 'blue'), (2, 4, {(0, -1), (1, 0), (0, 0), (-1, 0)}, 'blue'), (5, 0, {(0, 1), (-1, 0), (0, 0), (0, 2)}, 'blue'), (1, 2, {(0, 1), (-1, 1), (0, 0), (-1, 2)}, 'blue')]\n"
     ]
    },
    {
     "data": {
      "image/png": "[encoded data removed]",
      "text/plain": [
       "<Figure size 432x288 with 1 Axes>"
      ]
     },
     "metadata": {
      "needs_background": "light"
     },
     "output_type": "display_data"
    }
   ],
   "source": [
    "pintar_sol(6,sol)"
   ]
  }
 ],
 "metadata": {
  "kernelspec": {
   "display_name": "Python 3",
   "language": "python",
   "name": "python3"
  },
  "language_info": {
   "codemirror_mode": {
    "name": "ipython",
    "version": 3
   },
   "file_extension": ".py",
   "mimetype": "text/x-python",
   "name": "python",
   "nbconvert_exporter": "python",
   "pygments_lexer": "ipython3",
   "version": "3.6.0"
  }
 },
 "nbformat": 4,
 "nbformat_minor": 2
}
